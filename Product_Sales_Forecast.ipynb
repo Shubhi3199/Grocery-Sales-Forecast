{
  "nbformat": 4,
  "nbformat_minor": 0,
  "metadata": {
    "colab": {
      "name": "Product-Sales-Forecast.ipynb",
      "provenance": [],
      "collapsed_sections": [],
      "mount_file_id": "1lugXtKySVhkYZW4Qyy-0I64MxtCHOymj",
      "authorship_tag": "ABX9TyMFSQQUAc/zCxX8ppt3NF59",
      "include_colab_link": true
    },
    "kernelspec": {
      "name": "python3",
      "display_name": "Python 3"
    }
  },
  "cells": [
    {
      "cell_type": "markdown",
      "metadata": {
        "id": "view-in-github",
        "colab_type": "text"
      },
      "source": [
        "<a href=\"https://colab.research.google.com/github/Shubhi3199/Grocery-Sales-Forecast/blob/master/Product_Sales_Forecast.ipynb\" target=\"_parent\"><img src=\"https://colab.research.google.com/assets/colab-badge.svg\" alt=\"Open In Colab\"/></a>"
      ]
    },
    {
      "cell_type": "markdown",
      "metadata": {
        "id": "W9AMxuZQEUi1",
        "colab_type": "text"
      },
      "source": [
        "# End to end machine learning model which Forecasts Product Sales\n",
        "\n",
        "## 1. Problem\n",
        "The task is to build a model that more accurately forecasts product sales.\n",
        "## 2. Data \n",
        "The data is collected from kaggle competition of predicting the product sales.\n",
        "## 3. Features\n",
        "\n",
        "## 4. Evaluation \n",
        "Submissions are evaluated on the Normalized Weighted Root Mean Squared Logarithmic Error (NWRMSLE), calculated as follows:\n",
        "\n",
        "$$ NWRMSLE = \\sqrt{ \\frac{\\sum{i=1}^n wi \\left( \\ln(\\hat{y}i + 1) - \\ln(yi +1)  \\right)^2  }{\\sum{i=1}^n wi}} $$\n",
        "\n",
        "where for row i, \\(\\hat{y}i\\) is the predicted unitsales of an item and \\(yi\\) is the actual unitsales; n is the total number of rows in the test set.\n",
        "The weights, wi, can be found in the items.csv file (see the Data page). Perishable items are given a weight of 1.25 where all other items are given a weight of 1.00."
      ]
    },
    {
      "cell_type": "code",
      "metadata": {
        "id": "NV9x76IbpQU_",
        "colab_type": "code",
        "colab": {}
      },
      "source": [
        "import numpy as np\n",
        "import pandas as pd\n",
        "import tensorflow as tf\n",
        "import tensorflow_hub as hub"
      ],
      "execution_count": 0,
      "outputs": []
    },
    {
      "cell_type": "code",
      "metadata": {
        "id": "tXTOwqv1EQq_",
        "colab_type": "code",
        "colab": {}
      },
      "source": [
        "!unzip '/content/drive/My Drive/Product Sales Forecast/favorita-grocery-sales-forecasting.zip' -d '/content/drive/My Drive/Product Sales Forecast'"
      ],
      "execution_count": 0,
      "outputs": []
    },
    {
      "cell_type": "code",
      "metadata": {
        "id": "toL7hg5pSlLp",
        "colab_type": "code",
        "colab": {}
      },
      "source": [
        ""
      ],
      "execution_count": 0,
      "outputs": []
    }
  ]
}